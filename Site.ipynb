{
  "nbformat": 4,
  "nbformat_minor": 0,
  "metadata": {
    "colab": {
      "provenance": [],
      "authorship_tag": "ABX9TyP6eHa1v5eNXEl+XgxfaE3g",
      "include_colab_link": true
    },
    "kernelspec": {
      "name": "python3",
      "display_name": "Python 3"
    },
    "language_info": {
      "name": "python"
    }
  },
  "cells": [
    {
      "cell_type": "markdown",
      "metadata": {
        "id": "view-in-github",
        "colab_type": "text"
      },
      "source": [
        "<a href=\"https://colab.research.google.com/github/Sharvil14/my-colab-site/blob/main/Site.ipynb\" target=\"_parent\"><img src=\"https://colab.research.google.com/assets/colab-badge.svg\" alt=\"Open In Colab\"/></a>"
      ]
    },
    {
      "source": [
        "!git clone https://github.com/Sharvil14/my-colab-site.git"
      ],
      "cell_type": "code",
      "metadata": {
        "colab": {
          "base_uri": "https://localhost:8080/"
        },
        "id": "HBltdJIZ2PLf",
        "outputId": "891afa41-017c-4551-eec8-aeaa389f8b6d"
      },
      "execution_count": 27,
      "outputs": [
        {
          "output_type": "stream",
          "name": "stdout",
          "text": [
            "Cloning into 'my-colab-site'...\n",
            "remote: Enumerating objects: 11, done.\u001b[K\n",
            "remote: Counting objects: 100% (11/11), done.\u001b[K\n",
            "remote: Compressing objects: 100% (7/7), done.\u001b[K\n",
            "remote: Total 11 (delta 0), reused 0 (delta 0), pack-reused 0 (from 0)\u001b[K\n",
            "Receiving objects: 100% (11/11), done.\n"
          ]
        }
      ]
    },
    {
      "source": [
        "%cd my-colab-site\n",
        "\n",
        "html_content = \"<h1>Hello from Google Colab!</h1>\"\n",
        "with open(\"index.html\", \"w\") as file:\n",
        "    file.write(html_content)"
      ],
      "cell_type": "code",
      "metadata": {
        "colab": {
          "base_uri": "https://localhost:8080/"
        },
        "id": "GXkVE7r-2UbA",
        "outputId": "220ccd99-8d91-41ca-cf25-c6eee706e267"
      },
      "execution_count": 28,
      "outputs": [
        {
          "output_type": "stream",
          "name": "stdout",
          "text": [
            "/content/my-colab-site/my-colab-site/my-colab-site/my-colab-site/my-colab-site\n"
          ]
        }
      ]
    },
    {
      "cell_type": "code",
      "source": [
        "!git config --global user.email \"sharvilacharya53@gmail.com\"  # Use your GitHub email\n",
        "!git config --global user.name \"Sharvil14\"    # Use your GitHub username"
      ],
      "metadata": {
        "id": "Jvslc9VY2cGX"
      },
      "execution_count": 29,
      "outputs": []
    },
    {
      "cell_type": "code",
      "source": [
        "!git add .\n",
        "!git commit -m \"Add website files\""
      ],
      "metadata": {
        "colab": {
          "base_uri": "https://localhost:8080/"
        },
        "id": "qZFukP-r6RqP",
        "outputId": "d91886bf-5cba-47b9-b31a-acd7a50648d4"
      },
      "execution_count": 30,
      "outputs": [
        {
          "output_type": "stream",
          "name": "stdout",
          "text": [
            "[main 9354afa] Add website files\n",
            " 1 file changed, 1 insertion(+), 16 deletions(-)\n"
          ]
        }
      ]
    },
    {
      "cell_type": "code",
      "source": [
        "!git remote add origin https://github.com/Sharvil14/my-colab-site.git\n",
        "!git push -u origin main --force  # Use \"master\" if your default branch is master"
      ],
      "metadata": {
        "colab": {
          "base_uri": "https://localhost:8080/"
        },
        "id": "NiP5KdPV6Uh2",
        "outputId": "dcc8453c-1ad5-4669-a042-3aa3668dab00"
      },
      "execution_count": 31,
      "outputs": [
        {
          "output_type": "stream",
          "name": "stdout",
          "text": [
            "error: remote origin already exists.\n",
            "fatal: could not read Username for 'https://github.com': No such device or address\n"
          ]
        }
      ]
    },
    {
      "cell_type": "code",
      "source": [],
      "metadata": {
        "id": "BiPHj7Qi_5t1"
      },
      "execution_count": 32,
      "outputs": []
    }
  ]
}